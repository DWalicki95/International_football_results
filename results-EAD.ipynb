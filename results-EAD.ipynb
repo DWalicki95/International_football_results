{
 "cells": [
  {
   "cell_type": "markdown",
   "id": "ed4c16ab",
   "metadata": {},
   "source": [
    "Goal of this task is to do the exploratory data analysis of all the time national football games result."
   ]
  },
  {
   "cell_type": "code",
   "execution_count": 1,
   "id": "60eeca73",
   "metadata": {},
   "outputs": [],
   "source": [
    "import pandas as pd\n",
    "from datetime import datetime, date\n",
    "import numpy as np\n",
    "import matplotlib.pyplot as plt\n",
    "plt.style.use('dark_background')"
   ]
  },
  {
   "cell_type": "code",
   "execution_count": 2,
   "id": "640637ef",
   "metadata": {},
   "outputs": [],
   "source": [
    "#Load and show main dataframe\n",
    "df = pd.read_csv('archive/results.csv')"
   ]
  },
  {
   "cell_type": "code",
   "execution_count": 3,
   "id": "b2490b55",
   "metadata": {},
   "outputs": [
    {
     "data": {
      "text/html": [
       "<div>\n",
       "<style scoped>\n",
       "    .dataframe tbody tr th:only-of-type {\n",
       "        vertical-align: middle;\n",
       "    }\n",
       "\n",
       "    .dataframe tbody tr th {\n",
       "        vertical-align: top;\n",
       "    }\n",
       "\n",
       "    .dataframe thead th {\n",
       "        text-align: right;\n",
       "    }\n",
       "</style>\n",
       "<table border=\"1\" class=\"dataframe\">\n",
       "  <thead>\n",
       "    <tr style=\"text-align: right;\">\n",
       "      <th></th>\n",
       "      <th>date</th>\n",
       "      <th>home_team</th>\n",
       "      <th>away_team</th>\n",
       "      <th>home_score</th>\n",
       "      <th>away_score</th>\n",
       "      <th>tournament</th>\n",
       "      <th>city</th>\n",
       "      <th>country</th>\n",
       "      <th>neutral</th>\n",
       "    </tr>\n",
       "  </thead>\n",
       "  <tbody>\n",
       "    <tr>\n",
       "      <th>0</th>\n",
       "      <td>1872-11-30</td>\n",
       "      <td>Scotland</td>\n",
       "      <td>England</td>\n",
       "      <td>0.0</td>\n",
       "      <td>0.0</td>\n",
       "      <td>Friendly</td>\n",
       "      <td>Glasgow</td>\n",
       "      <td>Scotland</td>\n",
       "      <td>False</td>\n",
       "    </tr>\n",
       "    <tr>\n",
       "      <th>1</th>\n",
       "      <td>1873-03-08</td>\n",
       "      <td>England</td>\n",
       "      <td>Scotland</td>\n",
       "      <td>4.0</td>\n",
       "      <td>2.0</td>\n",
       "      <td>Friendly</td>\n",
       "      <td>London</td>\n",
       "      <td>England</td>\n",
       "      <td>False</td>\n",
       "    </tr>\n",
       "    <tr>\n",
       "      <th>2</th>\n",
       "      <td>1874-03-07</td>\n",
       "      <td>Scotland</td>\n",
       "      <td>England</td>\n",
       "      <td>2.0</td>\n",
       "      <td>1.0</td>\n",
       "      <td>Friendly</td>\n",
       "      <td>Glasgow</td>\n",
       "      <td>Scotland</td>\n",
       "      <td>False</td>\n",
       "    </tr>\n",
       "    <tr>\n",
       "      <th>3</th>\n",
       "      <td>1875-03-06</td>\n",
       "      <td>England</td>\n",
       "      <td>Scotland</td>\n",
       "      <td>2.0</td>\n",
       "      <td>2.0</td>\n",
       "      <td>Friendly</td>\n",
       "      <td>London</td>\n",
       "      <td>England</td>\n",
       "      <td>False</td>\n",
       "    </tr>\n",
       "    <tr>\n",
       "      <th>4</th>\n",
       "      <td>1876-03-04</td>\n",
       "      <td>Scotland</td>\n",
       "      <td>England</td>\n",
       "      <td>3.0</td>\n",
       "      <td>0.0</td>\n",
       "      <td>Friendly</td>\n",
       "      <td>Glasgow</td>\n",
       "      <td>Scotland</td>\n",
       "      <td>False</td>\n",
       "    </tr>\n",
       "  </tbody>\n",
       "</table>\n",
       "</div>"
      ],
      "text/plain": [
       "         date home_team away_team  home_score  away_score tournament     city  \\\n",
       "0  1872-11-30  Scotland   England         0.0         0.0   Friendly  Glasgow   \n",
       "1  1873-03-08   England  Scotland         4.0         2.0   Friendly   London   \n",
       "2  1874-03-07  Scotland   England         2.0         1.0   Friendly  Glasgow   \n",
       "3  1875-03-06   England  Scotland         2.0         2.0   Friendly   London   \n",
       "4  1876-03-04  Scotland   England         3.0         0.0   Friendly  Glasgow   \n",
       "\n",
       "    country  neutral  \n",
       "0  Scotland    False  \n",
       "1   England    False  \n",
       "2  Scotland    False  \n",
       "3   England    False  \n",
       "4  Scotland    False  "
      ]
     },
     "execution_count": 3,
     "metadata": {},
     "output_type": "execute_result"
    }
   ],
   "source": [
    "df.head()"
   ]
  },
  {
   "cell_type": "markdown",
   "id": "a4c5e5f6",
   "metadata": {},
   "source": [
    "<h1>Data cleaning</h1>"
   ]
  },
  {
   "cell_type": "code",
   "execution_count": 4,
   "id": "2d459c7b",
   "metadata": {},
   "outputs": [],
   "source": [
    "def date_changing(date):\n",
    "    \"\"\"Converting date format from string to datetime\"\"\"\n",
    "    try:\n",
    "        result = datetime.strptime(date,'%Y-%m-%d')\n",
    "    except ValueError:\n",
    "        result = np.NaN\n",
    "    return result"
   ]
  },
  {
   "cell_type": "code",
   "execution_count": 5,
   "id": "1a3e1ba9",
   "metadata": {},
   "outputs": [],
   "source": [
    "#Converting date format from string to datetime\n",
    "df[\"date\"] = df[\"date\"].apply(date_changing)"
   ]
  },
  {
   "cell_type": "code",
   "execution_count": 6,
   "id": "d9b652be",
   "metadata": {},
   "outputs": [],
   "source": [
    "#Converting scores from floats to integers:\n",
    "df[\"home_score\"] = df[\"home_score\"].astype(pd.Int64Dtype())\n",
    "df[\"away_score\"] = df[\"away_score\"].astype(pd.Int64Dtype())"
   ]
  },
  {
   "cell_type": "code",
   "execution_count": 7,
   "id": "92a192b0",
   "metadata": {},
   "outputs": [
    {
     "name": "stdout",
     "output_type": "stream",
     "text": [
      "<class 'pandas.core.frame.DataFrame'>\n",
      "RangeIndex: 44152 entries, 0 to 44151\n",
      "Data columns (total 9 columns):\n",
      " #   Column      Non-Null Count  Dtype         \n",
      "---  ------      --------------  -----         \n",
      " 0   date        44152 non-null  datetime64[ns]\n",
      " 1   home_team   44152 non-null  object        \n",
      " 2   away_team   44152 non-null  object        \n",
      " 3   home_score  44104 non-null  Int64         \n",
      " 4   away_score  44104 non-null  Int64         \n",
      " 5   tournament  44152 non-null  object        \n",
      " 6   city        44152 non-null  object        \n",
      " 7   country     44152 non-null  object        \n",
      " 8   neutral     44152 non-null  bool          \n",
      "dtypes: Int64(2), bool(1), datetime64[ns](1), object(5)\n",
      "memory usage: 2.8+ MB\n"
     ]
    }
   ],
   "source": [
    "#Dataframe info after cleaning:\n",
    "df.info()"
   ]
  },
  {
   "cell_type": "markdown",
   "id": "acb6c1b4",
   "metadata": {},
   "source": [
    "<h1>Analysis</h1>"
   ]
  },
  {
   "cell_type": "markdown",
   "id": "18d21a36",
   "metadata": {},
   "source": [
    "<h5>The highest scores all the time. The highest home and away score.</h5>"
   ]
  },
  {
   "cell_type": "code",
   "execution_count": 8,
   "id": "a2584136",
   "metadata": {},
   "outputs": [
    {
     "data": {
      "text/html": [
       "<div>\n",
       "<style scoped>\n",
       "    .dataframe tbody tr th:only-of-type {\n",
       "        vertical-align: middle;\n",
       "    }\n",
       "\n",
       "    .dataframe tbody tr th {\n",
       "        vertical-align: top;\n",
       "    }\n",
       "\n",
       "    .dataframe thead th {\n",
       "        text-align: right;\n",
       "    }\n",
       "</style>\n",
       "<table border=\"1\" class=\"dataframe\">\n",
       "  <thead>\n",
       "    <tr style=\"text-align: right;\">\n",
       "      <th></th>\n",
       "      <th>date</th>\n",
       "      <th>home_team</th>\n",
       "      <th>away_team</th>\n",
       "      <th>home_score</th>\n",
       "      <th>away_score</th>\n",
       "      <th>tournament</th>\n",
       "      <th>city</th>\n",
       "      <th>country</th>\n",
       "      <th>neutral</th>\n",
       "    </tr>\n",
       "  </thead>\n",
       "  <tbody>\n",
       "    <tr>\n",
       "      <th>24124</th>\n",
       "      <td>2001-04-11</td>\n",
       "      <td>Australia</td>\n",
       "      <td>American Samoa</td>\n",
       "      <td>31</td>\n",
       "      <td>0</td>\n",
       "      <td>FIFA World Cup qualification</td>\n",
       "      <td>Coffs Harbour</td>\n",
       "      <td>Australia</td>\n",
       "      <td>False</td>\n",
       "    </tr>\n",
       "  </tbody>\n",
       "</table>\n",
       "</div>"
      ],
      "text/plain": [
       "            date  home_team       away_team  home_score  away_score  \\\n",
       "24124 2001-04-11  Australia  American Samoa          31           0   \n",
       "\n",
       "                         tournament           city    country  neutral  \n",
       "24124  FIFA World Cup qualification  Coffs Harbour  Australia    False  "
      ]
     },
     "execution_count": 8,
     "metadata": {},
     "output_type": "execute_result"
    }
   ],
   "source": [
    "df[df[\"home_score\"] == df[\"home_score\"].max()]\n",
    "    "
   ]
  },
  {
   "cell_type": "code",
   "execution_count": 9,
   "id": "bafcd081",
   "metadata": {},
   "outputs": [
    {
     "data": {
      "text/html": [
       "<div>\n",
       "<style scoped>\n",
       "    .dataframe tbody tr th:only-of-type {\n",
       "        vertical-align: middle;\n",
       "    }\n",
       "\n",
       "    .dataframe tbody tr th {\n",
       "        vertical-align: top;\n",
       "    }\n",
       "\n",
       "    .dataframe thead th {\n",
       "        text-align: right;\n",
       "    }\n",
       "</style>\n",
       "<table border=\"1\" class=\"dataframe\">\n",
       "  <thead>\n",
       "    <tr style=\"text-align: right;\">\n",
       "      <th></th>\n",
       "      <th>date</th>\n",
       "      <th>home_team</th>\n",
       "      <th>away_team</th>\n",
       "      <th>home_score</th>\n",
       "      <th>away_score</th>\n",
       "      <th>tournament</th>\n",
       "      <th>city</th>\n",
       "      <th>country</th>\n",
       "      <th>neutral</th>\n",
       "    </tr>\n",
       "  </thead>\n",
       "  <tbody>\n",
       "    <tr>\n",
       "      <th>27701</th>\n",
       "      <td>2005-03-11</td>\n",
       "      <td>Guam</td>\n",
       "      <td>North Korea</td>\n",
       "      <td>0</td>\n",
       "      <td>21</td>\n",
       "      <td>EAFF Championship</td>\n",
       "      <td>Taipei</td>\n",
       "      <td>Taiwan</td>\n",
       "      <td>True</td>\n",
       "    </tr>\n",
       "  </tbody>\n",
       "</table>\n",
       "</div>"
      ],
      "text/plain": [
       "            date home_team    away_team  home_score  away_score  \\\n",
       "27701 2005-03-11      Guam  North Korea           0          21   \n",
       "\n",
       "              tournament    city country  neutral  \n",
       "27701  EAFF Championship  Taipei  Taiwan     True  "
      ]
     },
     "execution_count": 9,
     "metadata": {},
     "output_type": "execute_result"
    }
   ],
   "source": [
    "df[df[\"away_score\"] == df[\"away_score\"].max()]"
   ]
  },
  {
   "cell_type": "markdown",
   "id": "f823a00a",
   "metadata": {},
   "source": [
    "<h5>Average goals per game:</h5>"
   ]
  },
  {
   "cell_type": "code",
   "execution_count": 10,
   "id": "a532529d",
   "metadata": {},
   "outputs": [
    {
     "data": {
      "text/plain": [
       "2.9"
      ]
     },
     "execution_count": 10,
     "metadata": {},
     "output_type": "execute_result"
    }
   ],
   "source": [
    "df[\"sum_goals\"] = df[\"away_score\"] + df[\"home_score\"]\n",
    "df[\"sum_goals\"].mean().round(1)"
   ]
  },
  {
   "cell_type": "markdown",
   "id": "347111df",
   "metadata": {},
   "source": [
    "<h5>Average goals per game in each decade</h5>"
   ]
  },
  {
   "cell_type": "code",
   "execution_count": 11,
   "id": "9cf7126b",
   "metadata": {},
   "outputs": [],
   "source": [
    "#Adding new column to simply visualise year of played game\n",
    "df[\"year\"] = df[\"date\"].apply(lambda x: datetime.date(x).year)"
   ]
  },
  {
   "cell_type": "code",
   "execution_count": 12,
   "id": "b47cfe66",
   "metadata": {},
   "outputs": [],
   "source": [
    "decades = list(range(1880, 2030, 10))\n",
    "list_of_means, which_decade = [], []\n",
    "for idx, decade in enumerate(decades):\n",
    "    try:\n",
    "        mean_by_decade = df[(df[\"year\"]>decade) & \n",
    "                        (df[\"year\"]<decades[idx+1])][\"sum_goals\"].mean()\n",
    "        list_of_means.append(mean_by_decade)\n",
    "        which_decade.append(str(decade) + \"-\" + str(decades[idx+1]))\n",
    "    except IndexError:\n",
    "        pass"
   ]
  },
  {
   "cell_type": "code",
   "execution_count": 13,
   "id": "35430918",
   "metadata": {},
   "outputs": [
    {
     "data": {
      "image/png": "[encoded data removed]",
      "text/plain": [
       "<Figure size 432x288 with 1 Axes>"
      ]
     },
     "metadata": {},
     "output_type": "display_data"
    }
   ],
   "source": [
    "plt.scatter(which_decade, list_of_means)\n",
    "plt.xticks(np.array(which_decade[::2]), rotation=45) #reducing number of xticks, as they were illegible\n",
    "plt.title(\"Decreasing goal averages through decades\");"
   ]
  },
  {
   "cell_type": "markdown",
   "id": "b67b1e58",
   "metadata": {},
   "source": [
    "<h5>How many times home team is the winner:</h5>"
   ]
  },
  {
   "cell_type": "code",
   "execution_count": 14,
   "id": "b4d9b320",
   "metadata": {},
   "outputs": [],
   "source": [
    "#Iterating through columns to count home winners and draws all the time. \n",
    "#It's important to add second condition, as we have to exclude neutral games.\n",
    "home_winner_counter, draw_counter, home_losts_counter = 0, 0, 0\n",
    "for idx, row in df.iterrows():\n",
    "    try:\n",
    "        if (row[\"home_score\"] > row[\"away_score\"]) & (not row[\"neutral\"]):\n",
    "            home_winner_counter += 1\n",
    "        elif row[\"home_score\"] == row[\"away_score\"] & (not row[\"neutral\"]):\n",
    "            draw_counter += 1\n",
    "        elif row[\"home_score\"] < row[\"away_score\"] & (not row[\"neutral\"]):\n",
    "            home_losts_counter += 1  \n",
    "    except TypeError:\n",
    "        pass"
   ]
  },
  {
   "cell_type": "code",
   "execution_count": 15,
   "id": "9f4329d3",
   "metadata": {},
   "outputs": [
    {
     "data": {
      "text/plain": [
       "44104"
      ]
     },
     "execution_count": 15,
     "metadata": {},
     "output_type": "execute_result"
    }
   ],
   "source": [
    "#Finding number of all games\n",
    "all_games_number = df[\"home_score\"].dropna().count()\n",
    "all_games_number"
   ]
  },
  {
   "cell_type": "code",
   "execution_count": 16,
   "id": "ee922059",
   "metadata": {},
   "outputs": [
    {
     "data": {
      "text/plain": [
       "16777"
      ]
     },
     "execution_count": 16,
     "metadata": {},
     "output_type": "execute_result"
    }
   ],
   "source": [
    "#How many times the winner is a home team:\n",
    "home_winner_counter"
   ]
  },
  {
   "cell_type": "code",
   "execution_count": 17,
   "id": "bf443bc2",
   "metadata": {},
   "outputs": [
    {
     "data": {
      "text/plain": [
       "11849"
      ]
     },
     "execution_count": 17,
     "metadata": {},
     "output_type": "execute_result"
    }
   ],
   "source": [
    "#Draws in national football history all the time\n",
    "draw_counter"
   ]
  },
  {
   "cell_type": "code",
   "execution_count": 18,
   "id": "6c50d5f7",
   "metadata": {},
   "outputs": [
    {
     "data": {
      "text/plain": [
       "3055"
      ]
     },
     "execution_count": 18,
     "metadata": {},
     "output_type": "execute_result"
    }
   ],
   "source": [
    "#Home team lost in national\n",
    "home_losts_counter"
   ]
  },
  {
   "cell_type": "code",
   "execution_count": 19,
   "id": "56d1a383",
   "metadata": {},
   "outputs": [
    {
     "name": "stdout",
     "output_type": "stream",
     "text": [
      "Home team was a winner in 16777 games of 44104, which is 38.0%.\n",
      "There were 11849 draws, which is 27.0%.\n",
      "Home team lost 3055 times, which is 7.0%.\n"
     ]
    },
    {
     "data": {
      "image/png": "[encoded data removed]",
      "text/plain": [
       "<Figure size 432x288 with 1 Axes>"
      ]
     },
     "metadata": {},
     "output_type": "display_data"
    }
   ],
   "source": [
    "plt.bar(x = [\"Home team wins\", \"Draws\", \"Home team losts\"], \n",
    "        height = [home_winner_counter, draw_counter, home_losts_counter]);\n",
    "print(f\"Home team was a winner in {home_winner_counter} games \" \n",
    "      f\"of {all_games_number}, which is {(home_winner_counter/all_games_number).round(2)*100}%.\\n\"\n",
    "      f\"There were {draw_counter} draws, which is {(draw_counter/all_games_number).round(2)*100}%.\\n\"\n",
    "     f\"Home team lost {home_losts_counter} times, which is \"\n",
    "     f\"{(((home_losts_counter)/all_games_number)*100).round()}%.\")"
   ]
  },
  {
   "cell_type": "markdown",
   "id": "ae2382f9",
   "metadata": {},
   "source": [
    "<h5>Number of played matches depending on the year:</h5>"
   ]
  },
  {
   "cell_type": "code",
   "execution_count": 20,
   "id": "3bcb7503",
   "metadata": {},
   "outputs": [
    {
     "data": {
      "image/png": "[encoded data removed]",
      "text/plain": [
       "<Figure size 432x288 with 1 Axes>"
      ]
     },
     "metadata": {},
     "output_type": "display_data"
    }
   ],
   "source": [
    "plt.hist(df[\"year\"], bins=20, edgecolor=\"black\")\n",
    "current_date = datetime.now().year\n",
    "plt.xlim([1880, current_date])\n",
    "plt.xlabel(\"Year\")\n",
    "plt.ylabel(\"Number of games\");\n",
    "plt.title(\"Number of matches played over the years\");"
   ]
  },
  {
   "cell_type": "markdown",
   "id": "10b51123",
   "metadata": {},
   "source": [
    "<h5>Number of played games depending on season</h5>"
   ]
  },
  {
   "cell_type": "code",
   "execution_count": 21,
   "id": "43f91d24",
   "metadata": {},
   "outputs": [],
   "source": [
    "#Month to season compression\n",
    "seasons = {\n",
    "            1: \"winter\",\n",
    "            2: \"spring\",\n",
    "            3: \"summer\",\n",
    "            4: \"autumn\"\n",
    "          }\n",
    "def month_to_season(date):\n",
    "    month = date.month #extract month from datetime\n",
    "    season = month%12 // 3 + 1 #math function converting month -> season\n",
    "    return seasons.get(season)"
   ]
  },
  {
   "cell_type": "code",
   "execution_count": 22,
   "id": "d098fe3d",
   "metadata": {},
   "outputs": [],
   "source": [
    "df[\"season\"] = df[\"date\"].apply(month_to_season)"
   ]
  },
  {
   "cell_type": "code",
   "execution_count": 23,
   "id": "eba0119c",
   "metadata": {},
   "outputs": [
    {
     "data": {
      "image/png": "[encoded data removed]",
      "text/plain": [
       "<Figure size 432x288 with 1 Axes>"
      ]
     },
     "metadata": {},
     "output_type": "display_data"
    }
   ],
   "source": [
    "plt.bar(df[\"season\"].value_counts().index, df[\"season\"].value_counts())\n",
    "plt.xlabel(\"Season when the game was played\")\n",
    "plt.ylabel(\"Number of games\")\n",
    "plt.title(\"Season - number of football international games relationship\");"
   ]
  },
  {
   "cell_type": "markdown",
   "id": "e750dee7",
   "metadata": {},
   "source": [
    "<h5>The team that plays the most</h5>"
   ]
  },
  {
   "cell_type": "code",
   "execution_count": 24,
   "id": "0baeb3ed",
   "metadata": {},
   "outputs": [
    {
     "data": {
      "text/plain": [
       "'Brazil'"
      ]
     },
     "execution_count": 24,
     "metadata": {},
     "output_type": "execute_result"
    }
   ],
   "source": [
    "df[\"home_team\"].value_counts().idxmax() #home team"
   ]
  },
  {
   "cell_type": "code",
   "execution_count": 25,
   "id": "643cf595",
   "metadata": {},
   "outputs": [
    {
     "data": {
      "text/plain": [
       "'Uruguay'"
      ]
     },
     "execution_count": 25,
     "metadata": {},
     "output_type": "execute_result"
    }
   ],
   "source": [
    "df[\"away_team\"].value_counts().idxmax() #away team"
   ]
  },
  {
   "cell_type": "markdown",
   "id": "2ac538e8",
   "metadata": {},
   "source": [
    "<h4>Per region anylsis</h4>"
   ]
  },
  {
   "cell_type": "code",
   "execution_count": 26,
   "id": "587ec0ab",
   "metadata": {},
   "outputs": [],
   "source": [
    "#load database that contains list of countries related to regions\n",
    "df_countries = pd.read_csv('archive/continents2.csv') \n",
    "UK = [\"England\", \"Scotland\", \"Wales\", \"Northern Ireland\"] #in previous line database there is United Kingdom"
   ]
  },
  {
   "cell_type": "code",
   "execution_count": 27,
   "id": "bc067992",
   "metadata": {},
   "outputs": [],
   "source": [
    "def find_region(country):\n",
    "    \"\"\"That's the function that assign continent for the country\"\"\"\n",
    "    if country in list(df_countries[\"name\"]):\n",
    "        return df_countries[df_countries[\"name\"]==country][\"region\"].iloc[0]\n",
    "    elif country in UK:\n",
    "        return \"Europe\""
   ]
  },
  {
   "cell_type": "code",
   "execution_count": 28,
   "id": "8b1b7af6",
   "metadata": {},
   "outputs": [],
   "source": [
    "df[\"h_team_region\"] = df[\"home_team\"].apply(find_region)\n",
    "df[\"a_team_region\"] = df[\"away_team\"].apply(find_region)"
   ]
  },
  {
   "cell_type": "markdown",
   "id": "a10196c8",
   "metadata": {},
   "source": [
    "How often matches are intercontinentail"
   ]
  },
  {
   "cell_type": "code",
   "execution_count": 29,
   "id": "53e73076",
   "metadata": {},
   "outputs": [],
   "source": [
    "cont_counter = 0\n",
    "for idx, row in df.iterrows():\n",
    "    if row[\"h_team_region\"] == row[\"a_team_region\"]:\n",
    "        cont_counter += 1"
   ]
  },
  {
   "cell_type": "code",
   "execution_count": 30,
   "id": "9260c624",
   "metadata": {},
   "outputs": [
    {
     "data": {
      "image/png": "[encoded data removed]",
      "text/plain": [
       "<Figure size 432x288 with 1 Axes>"
      ]
     },
     "metadata": {},
     "output_type": "display_data"
    }
   ],
   "source": [
    "plt.bar([\"Local\", \"Intercontinential\"], [cont_counter, df.shape[0]-cont_counter])\n",
    "plt.title(str(round(cont_counter/df.shape[0]*100)) + \n",
    "          \"% of all games are played within the same region\");"
   ]
  },
  {
   "cell_type": "markdown",
   "id": "23f86abd",
   "metadata": {},
   "source": [
    "<h3>Tournaments analysis</h3>"
   ]
  },
  {
   "cell_type": "code",
   "execution_count": 31,
   "id": "37ed9b55",
   "metadata": {},
   "outputs": [
    {
     "data": {
      "image/png": "[encoded data removed]",
      "text/plain": [
       "<Figure size 432x288 with 1 Axes>"
      ]
     },
     "metadata": {},
     "output_type": "display_data"
    }
   ],
   "source": [
    "import seaborn\n",
    "pie_data = list(df[\"tournament\"].value_counts()[1:6].values) #TOP 5 tournaments. Range excluded 0 indx beacouse they're Friendly games\n",
    "\n",
    "pie_keys = list(df[\"tournament\"].value_counts()[1:6].index) #TOP 5 tournaments. Range excluded 0 indx beacouse they're Friendly games\n",
    "\n",
    "palette_color = seaborn.color_palette('bright')\n",
    "explode = [0.1, 0, 0, 0.4, 0] #FIFA World Cup games distinguished\n",
    "\n",
    "plt.pie(pie_data, labels=pie_keys, colors = palette_color, autopct='%.0f%%', explode=explode)\n",
    "plt.title(\"5 the most often played football tournaments\\n\");"
   ]
  },
  {
   "cell_type": "markdown",
   "id": "535a6c27",
   "metadata": {},
   "source": [
    "<h5>FIFA World Cup</h5>"
   ]
  },
  {
   "cell_type": "code",
   "execution_count": 32,
   "id": "21fa02d0",
   "metadata": {},
   "outputs": [],
   "source": [
    "df_wc = df[df[\"tournament\"]==\"FIFA World Cup\"].copy() #filtering only World Cup and creating a new dataframe"
   ]
  },
  {
   "cell_type": "code",
   "execution_count": 33,
   "id": "25bb4236",
   "metadata": {},
   "outputs": [],
   "source": [
    "df_wc.reset_index(inplace=True) #setting new indexes"
   ]
  },
  {
   "cell_type": "code",
   "execution_count": 34,
   "id": "2d4cea0a",
   "metadata": {},
   "outputs": [],
   "source": [
    "wc_years = list(df_wc[\"year\"].unique()) #creating list of years, when WC were played"
   ]
  },
  {
   "cell_type": "code",
   "execution_count": 35,
   "id": "f64fe53f",
   "metadata": {},
   "outputs": [],
   "source": [
    "wc_years = wc_years[:-1] #2022 world cup not finished so far"
   ]
  },
  {
   "cell_type": "markdown",
   "id": "f5d4a593",
   "metadata": {},
   "source": [
    "<h5>World Cup Winners</h5>"
   ]
  },
  {
   "cell_type": "code",
   "execution_count": 36,
   "id": "aada06e3",
   "metadata": {},
   "outputs": [],
   "source": [
    "def find_winner(row):\n",
    "    \"\"\"This function helps to find the winner based on the score\"\"\"\n",
    "    try:\n",
    "        if row[\"home_score\"] > row[\"away_score\"]:\n",
    "            return row[\"home_team\"]\n",
    "        elif row[\"home_score\"] < row[\"away_score\"]:\n",
    "            return row[\"away_team\"]\n",
    "        else:\n",
    "            pass\n",
    "    except TypeError:\n",
    "        pass"
   ]
  },
  {
   "cell_type": "code",
   "execution_count": 37,
   "id": "efb879b0",
   "metadata": {},
   "outputs": [],
   "source": [
    "df_wc[\"winner\"] = df_wc.apply(find_winner, axis=1) #adding a new column with name of winner in each game"
   ]
  },
  {
   "cell_type": "code",
   "execution_count": 38,
   "id": "d55315d7",
   "metadata": {},
   "outputs": [
    {
     "data": {
      "image/png": "[encoded data removed]",
      "text/plain": [
       "<Figure size 640x480 with 1 Axes>"
      ]
     },
     "metadata": {},
     "output_type": "display_data"
    }
   ],
   "source": [
    "plt.rcdefaults()\n",
    "fig, ax = plt.subplots()\n",
    "\n",
    "#creating a list with colors\n",
    "bar_colors = [\"tab:blue\"] * len(df_wc[\"winner\"].value_counts()[:20])\n",
    "bar_colors[0:3] = [\"gold\", \"silver\", \"peru\"]\n",
    "\n",
    "ax.barh(df_wc[\"winner\"].value_counts()[:20].index, df_wc[\"winner\"].value_counts()[:20],color=bar_colors, edgecolor=\"black\")\n",
    "plt.gca().invert_yaxis() #reverse order on plot\n",
    "\n",
    "ax.set_xlabel('Number of wins')\n",
    "ax.set_title('TOP 20 World Cup Competitors (Most Victories)');"
   ]
  },
  {
   "cell_type": "markdown",
   "id": "4e287d39",
   "metadata": {},
   "source": [
    "<h5>All the time participants</h5>\n"
   ]
  },
  {
   "cell_type": "code",
   "execution_count": 39,
   "id": "07476c03",
   "metadata": {},
   "outputs": [],
   "source": [
    "def find_all_participants(home_teams: np.array, away_teams: np.array):\n",
    "    \"\"\"It's the function that convert np.arrays to lists and returns unique values of two lists. \n",
    "       This is essential so that no team is omitted when we're looking for all participants in each tournament.\"\"\"\n",
    "    return set(list(home_teams)+list(away_teams))\n",
    "    "
   ]
  },
  {
   "cell_type": "code",
   "execution_count": 40,
   "id": "24327068",
   "metadata": {},
   "outputs": [],
   "source": [
    "home_teams = list(df_wc[df_wc[\"year\"]==2018][\"home_team\"].unique())"
   ]
  },
  {
   "cell_type": "code",
   "execution_count": 41,
   "id": "9e5875fa",
   "metadata": {},
   "outputs": [],
   "source": [
    "away_teams = list(df_wc[df_wc[\"year\"]==2018][\"away_team\"].unique())"
   ]
  },
  {
   "cell_type": "code",
   "execution_count": 78,
   "id": "265473fe",
   "metadata": {},
   "outputs": [
    {
     "name": "stdout",
     "output_type": "stream",
     "text": [
      "Length of the list with all the time participants is the number of all nations that took part in World Cup.\n",
      "81 nations have competed in World Cup so far.\n"
     ]
    }
   ],
   "source": [
    "all_participants, pcipants_uniq_region = [], []\n",
    "for year in wc_years:\n",
    "    participants = find_all_participants(df_wc[df_wc[\"year\"]==year][\"home_team\"].unique(),\n",
    "                                         df_wc[df_wc[\"year\"]==year][\"away_team\"].unique())\n",
    "    #Creating one list with all participants ever took part in the tournament\n",
    "    for participant in participants:\n",
    "        all_participants.append(participant)\n",
    "        pcipants_uniq_region.append(find_region(participant))\n",
    "    pcipants_uniq_region.append(\"Next WC\")\n",
    "        \n",
    "        \n",
    " \n",
    "print(f'Length of the list with all the time participants is the number of all nations that took part in World Cup.' \n",
    "      f'\\n{len(set(all_participants))} nations have competed in World Cup so far.')"
   ]
  },
  {
   "cell_type": "code",
   "execution_count": 79,
   "id": "895ad1f0",
   "metadata": {},
   "outputs": [
    {
     "name": "stdout",
     "output_type": "stream",
     "text": [
      "['Americas', None, 'Americas', 'Americas', 'Europe', 'Americas', 'Americas', 'Americas', 'Americas', 'Europe', 'Europe', 'Americas', 'Americas', 'Next WC', 'Europe', 'Europe', 'Europe', 'Europe', 'Europe', 'Europe', 'Americas', 'Europe', 'Europe', 'Americas', 'Africa', 'Europe', None, 'Europe', 'Europe', 'Americas', 'Next WC', 'Europe', 'Europe', 'Asia', 'Europe', 'Europe', 'Europe', 'Europe', 'Europe', 'Europe', 'Europe', 'Americas', 'Europe', None, 'Europe', 'Americas', 'Next WC', 'Europe', 'Americas', None, 'Europe', 'Americas', 'Europe', 'Americas', 'Americas', 'Americas', 'Europe', 'Europe', 'Americas', 'Americas', 'Next WC', 'Asia', 'Europe', 'Europe', 'Europe', None, 'Europe', 'Asia', 'Europe', 'Americas', 'Europe', 'Americas', 'Europe', None, 'Europe', 'Europe', 'Americas', 'Next WC', 'Europe', 'Europe', 'Europe', None, 'Europe', 'Europe', 'Americas', 'Europe', 'Americas', 'Europe', None, 'Europe', 'Europe', 'Americas', 'Europe', 'Americas', 'Next WC', 'Europe', 'Europe', 'Europe', None, 'Europe', 'Americas', 'Europe', 'Americas', 'Europe', 'Americas', 'Americas', 'Europe', None, 'Europe', 'Americas', 'Americas', 'Next WC', 'Europe', None, 'Europe', 'Europe', 'Europe', 'Americas', 'Europe', 'Europe', 'Americas', 'Europe', 'Americas', 'Americas', 'Europe', 'Europe', 'Europe', 'Americas', 'Next WC', 'Asia', 'Europe', 'Europe', 'Europe', 'Americas', 'Europe', 'Europe', 'Americas', 'Americas', 'Europe', 'Americas', 'Europe', None, 'Europe', 'Africa', 'Americas', 'Next WC', 'Europe', None, 'Europe', 'Europe', 'Europe', 'Americas', 'Americas', 'Europe', 'Europe', 'Europe', None, 'Americas', 'Americas', 'Americas', 'Oceania', None, 'Next WC', 'Asia', 'Europe', 'Europe', 'Europe', 'Europe', 'Africa', 'Americas', 'Europe', 'Europe', 'Americas', 'Europe', 'Europe', 'Americas', 'Europe', 'Europe', 'Americas', 'Next WC', 'Europe', 'Europe', 'Americas', 'Europe', 'Europe', 'Americas', 'Americas', 'Oceania', 'Europe', 'Americas', 'Europe', 'Europe', 'Americas', 'Africa', 'Europe', 'Africa', 'Europe', 'Europe', None, 'Europe', 'Asia', 'Europe', 'Americas', None, 'Next WC', 'Americas', 'Europe', 'Americas', 'Europe', 'Americas', 'Europe', 'Europe', 'Europe', 'Europe', 'Asia', 'Europe', 'Africa', 'Americas', 'Europe', 'Europe', 'Europe', 'Africa', 'Europe', 'Europe', 'Americas', 'Europe', 'Asia', 'Europe', 'Americas', 'Next WC', 'Americas', 'Europe', 'Europe', 'Americas', 'Europe', 'Americas', 'Europe', 'Americas', 'Americas', 'Africa', 'Europe', 'Europe', 'Europe', 'Europe', 'Europe', None, None, 'Europe', 'Asia', 'Europe', 'Americas', 'Africa', None, 'Asia', 'Next WC', 'Asia', 'Europe', 'Americas', 'Europe', 'Europe', 'Europe', 'Europe', 'Americas', 'Americas', 'Africa', 'Americas', 'Africa', 'Europe', 'Africa', 'Europe', 'Europe', 'Europe', 'Europe', 'Europe', 'Americas', None, 'Asia', 'Europe', 'Americas', 'Next WC', 'Asia', 'Asia', 'Europe', 'Americas', 'Europe', 'Europe', 'Americas', 'Europe', 'Europe', 'Africa', 'Americas', 'Europe', 'Americas', 'Europe', 'Africa', 'Americas', 'Americas', 'Africa', 'Africa', 'Europe', 'Africa', 'Europe', 'Europe', 'Europe', 'Europe', 'Europe', 'Europe', 'Europe', 'Asia', 'Asia', 'Americas', 'Americas', 'Next WC', 'Asia', 'Americas', 'Asia', 'Europe', 'Americas', 'Europe', 'Americas', 'Europe', 'Americas', 'Africa', 'Africa', 'Europe', 'Europe', 'Europe', 'Americas', 'Europe', 'Americas', 'Africa', 'Africa', 'Europe', 'Africa', None, 'Europe', 'Europe', 'Europe', None, 'Europe', 'Asia', 'Europe', 'Asia', 'Americas', 'Americas', 'Next WC', 'Americas', 'Asia', 'Asia', 'Europe', 'Americas', 'Europe', 'Europe', 'Americas', 'Europe', 'Europe', 'Americas', 'Africa', 'Europe', 'Europe', 'Europe', 'Americas', 'Africa', 'Africa', 'Europe', 'Oceania', 'Africa', 'Europe', 'Americas', 'Europe', 'Europe', 'Europe', 'Europe', 'Asia', 'Asia', 'Americas', 'Americas', None, 'Next WC', 'Europe', 'Americas', 'Europe', 'Americas', 'Europe', 'Americas', 'Americas', 'Europe', 'Europe', 'Americas', 'Africa', 'Americas', 'Oceania', 'Europe', 'Oceania', 'Americas', None, 'Africa', 'Europe', 'Europe', 'Africa', 'Africa', 'Europe', 'Africa', 'Europe', 'Europe', 'Europe', 'Europe', 'Asia', 'Asia', 'Americas', None, 'Next WC', 'Asia', 'Americas', 'Americas', 'Europe', 'Americas', 'Europe', 'Americas', 'Europe', 'Europe', 'Americas', 'Africa', 'Americas', 'Europe', 'Oceania', 'Americas', 'Americas', 'Africa', 'Europe', 'Africa', 'Europe', 'Europe', 'Africa', 'Europe', 'Europe', 'Europe', 'Asia', 'Europe', 'Asia', 'Americas', 'Americas', None, None, 'Next WC', 'Americas', 'Asia', 'Asia', 'Europe', 'Europe', 'Americas', 'Europe', 'Americas', 'Europe', 'Africa', 'Africa', 'Europe', 'Europe', 'Europe', 'Europe', 'Americas', 'Africa', 'Oceania', 'Americas', 'Africa', 'Americas', 'Europe', 'Europe', 'Europe', 'Europe', 'Europe', 'Americas', 'Asia', 'Europe', 'Asia', 'Africa', 'Americas', 'Next WC']\n"
     ]
    }
   ],
   "source": [
    "print(pcipants_uniq_region)"
   ]
  },
  {
   "cell_type": "code",
   "execution_count": 63,
   "id": "972b8da8",
   "metadata": {},
   "outputs": [
    {
     "data": {
      "text/plain": [
       "[None,\n",
       " None,\n",
       " None,\n",
       " None,\n",
       " None,\n",
       " None,\n",
       " None,\n",
       " None,\n",
       " None,\n",
       " None,\n",
       " None,\n",
       " None,\n",
       " None,\n",
       " None,\n",
       " None,\n",
       " None,\n",
       " None,\n",
       " None,\n",
       " None,\n",
       " None,\n",
       " None]"
      ]
     },
     "execution_count": 63,
     "metadata": {},
     "output_type": "execute_result"
    }
   ],
   "source": [
    "pcipants_uniq_region = []\n",
    "for participant in set(all_articipants):\n",
    "    "
   ]
  },
  {
   "cell_type": "code",
   "execution_count": null,
   "id": "7d38c07e",
   "metadata": {},
   "outputs": [],
   "source": [
    "for "
   ]
  },
  {
   "cell_type": "code",
   "execution_count": null,
   "id": "427d4be3",
   "metadata": {},
   "outputs": [],
   "source": []
  }
 ],
 "metadata": {
  "kernelspec": {
   "display_name": "Python 3 (ipykernel)",
   "language": "python",
   "name": "python3"
  },
  "language_info": {
   "codemirror_mode": {
    "name": "ipython",
    "version": 3
   },
   "file_extension": ".py",
   "mimetype": "text/x-python",
   "name": "python",
   "nbconvert_exporter": "python",
   "pygments_lexer": "ipython3",
   "version": "3.9.12"
  },
  "varInspector": {
   "cols": {
    "lenName": 16,
    "lenType": 16,
    "lenVar": 40
   },
   "kernels_config": {
    "python": {
     "delete_cmd_postfix": "",
     "delete_cmd_prefix": "del ",
     "library": "var_list.py",
     "varRefreshCmd": "print(var_dic_list())"
    },
    "r": {
     "delete_cmd_postfix": ") ",
     "delete_cmd_prefix": "rm(",
     "library": "var_list.r",
     "varRefreshCmd": "cat(var_dic_list()) "
    }
   },
   "types_to_exclude": [
    "module",
    "function",
    "builtin_function_or_method",
    "instance",
    "_Feature"
   ],
   "window_display": false
  }
 },
 "nbformat": 4,
 "nbformat_minor": 5
}
